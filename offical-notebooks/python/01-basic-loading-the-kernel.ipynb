{
  "cells": [
    {
      "attachments": {},
      "cell_type": "markdown",
      "metadata": {},
      "source": [
        "# Basic Loading of the Kernel"
      ]
    },
    {
      "attachments": {},
      "cell_type": "markdown",
      "metadata": {},
      "source": [
        "To run the notebooks we recommend using Poetry and starting a shell with a virtual environment\n",
        "prepared to use SK. \n",
        "\n",
        "See [DEV_SETUP.md](../../../python/DEV_SETUP.md) for more information."
      ]
    },
    {
      "cell_type": "code",
      "execution_count": 1,
      "metadata": {},
      "outputs": [
        {
          "name": "stdout",
          "output_type": "stream",
          "text": [
            "Requirement already satisfied: semantic-kernel==0.2.6.dev0 in /home/microshaoft/.local/lib/python3.9/site-packages (from -r requirements.txt (line 1)) (0.2.6.dev0)\n",
            "Requirement already satisfied: numpy<2.0.0,>=1.24.2 in /home/microshaoft/.local/lib/python3.9/site-packages (from semantic-kernel==0.2.6.dev0->-r requirements.txt (line 1)) (1.24.2)\n",
            "Requirement already satisfied: sentence-transformers<3.0.0,>=2.2.2 in /home/microshaoft/.local/lib/python3.9/site-packages (from semantic-kernel==0.2.6.dev0->-r requirements.txt (line 1)) (2.2.2)\n",
            "Requirement already satisfied: openai<0.28.0,>=0.27.0 in /home/microshaoft/.local/lib/python3.9/site-packages (from semantic-kernel==0.2.6.dev0->-r requirements.txt (line 1)) (0.27.4)\n",
            "Requirement already satisfied: aiofiles<24.0.0,>=23.1.0 in /home/microshaoft/.local/lib/python3.9/site-packages (from semantic-kernel==0.2.6.dev0->-r requirements.txt (line 1)) (23.1.0)\n",
            "Requirement already satisfied: transformers<5.0.0,>=4.28.1 in /home/microshaoft/.local/lib/python3.9/site-packages (from semantic-kernel==0.2.6.dev0->-r requirements.txt (line 1)) (4.28.1)\n",
            "Requirement already satisfied: torch<3.0.0,>=2.0.0 in /home/microshaoft/.local/lib/python3.9/site-packages (from semantic-kernel==0.2.6.dev0->-r requirements.txt (line 1)) (2.0.0)\n",
            "Requirement already satisfied: scikit-learn in /home/microshaoft/.local/lib/python3.9/site-packages (from sentence-transformers<3.0.0,>=2.2.2->semantic-kernel==0.2.6.dev0->-r requirements.txt (line 1)) (1.2.2)\n",
            "Requirement already satisfied: scipy in /home/microshaoft/.local/lib/python3.9/site-packages (from sentence-transformers<3.0.0,>=2.2.2->semantic-kernel==0.2.6.dev0->-r requirements.txt (line 1)) (1.10.1)\n",
            "Requirement already satisfied: sentencepiece in /home/microshaoft/.local/lib/python3.9/site-packages (from sentence-transformers<3.0.0,>=2.2.2->semantic-kernel==0.2.6.dev0->-r requirements.txt (line 1)) (0.1.99)\n",
            "Requirement already satisfied: tqdm in /home/microshaoft/.local/lib/python3.9/site-packages (from sentence-transformers<3.0.0,>=2.2.2->semantic-kernel==0.2.6.dev0->-r requirements.txt (line 1)) (4.65.0)\n",
            "Requirement already satisfied: huggingface-hub>=0.4.0 in /home/microshaoft/.local/lib/python3.9/site-packages (from sentence-transformers<3.0.0,>=2.2.2->semantic-kernel==0.2.6.dev0->-r requirements.txt (line 1)) (0.14.1)\n",
            "Requirement already satisfied: nltk in /home/microshaoft/.local/lib/python3.9/site-packages (from sentence-transformers<3.0.0,>=2.2.2->semantic-kernel==0.2.6.dev0->-r requirements.txt (line 1)) (3.8.1)\n",
            "Requirement already satisfied: torchvision in /home/microshaoft/.local/lib/python3.9/site-packages (from sentence-transformers<3.0.0,>=2.2.2->semantic-kernel==0.2.6.dev0->-r requirements.txt (line 1)) (0.15.1)\n",
            "Requirement already satisfied: aiohttp in /home/microshaoft/.local/lib/python3.9/site-packages (from openai<0.28.0,>=0.27.0->semantic-kernel==0.2.6.dev0->-r requirements.txt (line 1)) (3.8.4)\n",
            "Requirement already satisfied: requests>=2.20 in /usr/lib/python3/dist-packages (from openai<0.28.0,>=0.27.0->semantic-kernel==0.2.6.dev0->-r requirements.txt (line 1)) (2.22.0)\n",
            "Requirement already satisfied: regex!=2019.12.17 in /home/microshaoft/.local/lib/python3.9/site-packages (from transformers<5.0.0,>=4.28.1->semantic-kernel==0.2.6.dev0->-r requirements.txt (line 1)) (2023.5.5)\n",
            "Requirement already satisfied: pyyaml>=5.1 in /home/microshaoft/.local/lib/python3.9/site-packages (from transformers<5.0.0,>=4.28.1->semantic-kernel==0.2.6.dev0->-r requirements.txt (line 1)) (6.0)\n",
            "Requirement already satisfied: packaging>=20.0 in /home/microshaoft/.local/lib/python3.9/site-packages (from transformers<5.0.0,>=4.28.1->semantic-kernel==0.2.6.dev0->-r requirements.txt (line 1)) (23.0)\n",
            "Requirement already satisfied: filelock in /home/microshaoft/.local/lib/python3.9/site-packages (from transformers<5.0.0,>=4.28.1->semantic-kernel==0.2.6.dev0->-r requirements.txt (line 1)) (3.12.0)\n",
            "Requirement already satisfied: tokenizers!=0.11.3,<0.14,>=0.11.1 in /home/microshaoft/.local/lib/python3.9/site-packages (from transformers<5.0.0,>=4.28.1->semantic-kernel==0.2.6.dev0->-r requirements.txt (line 1)) (0.13.3)\n",
            "Requirement already satisfied: jinja2 in /usr/lib/python3/dist-packages (from torch<3.0.0,>=2.0.0->semantic-kernel==0.2.6.dev0->-r requirements.txt (line 1)) (2.10.1)\n",
            "Requirement already satisfied: nvidia-cufft-cu11==10.9.0.58; platform_system == \"Linux\" and platform_machine == \"x86_64\" in /home/microshaoft/.local/lib/python3.9/site-packages (from torch<3.0.0,>=2.0.0->semantic-kernel==0.2.6.dev0->-r requirements.txt (line 1)) (10.9.0.58)\n",
            "Requirement already satisfied: networkx in /home/microshaoft/.local/lib/python3.9/site-packages (from torch<3.0.0,>=2.0.0->semantic-kernel==0.2.6.dev0->-r requirements.txt (line 1)) (3.1)\n",
            "Requirement already satisfied: sympy in /home/microshaoft/.local/lib/python3.9/site-packages (from torch<3.0.0,>=2.0.0->semantic-kernel==0.2.6.dev0->-r requirements.txt (line 1)) (1.11.1)\n",
            "Requirement already satisfied: nvidia-cuda-runtime-cu11==11.7.99; platform_system == \"Linux\" and platform_machine == \"x86_64\" in /home/microshaoft/.local/lib/python3.9/site-packages (from torch<3.0.0,>=2.0.0->semantic-kernel==0.2.6.dev0->-r requirements.txt (line 1)) (11.7.99)\n",
            "Requirement already satisfied: typing-extensions in /home/microshaoft/.local/lib/python3.9/site-packages (from torch<3.0.0,>=2.0.0->semantic-kernel==0.2.6.dev0->-r requirements.txt (line 1)) (4.5.0)\n",
            "Requirement already satisfied: nvidia-cusolver-cu11==11.4.0.1; platform_system == \"Linux\" and platform_machine == \"x86_64\" in /home/microshaoft/.local/lib/python3.9/site-packages (from torch<3.0.0,>=2.0.0->semantic-kernel==0.2.6.dev0->-r requirements.txt (line 1)) (11.4.0.1)\n",
            "Requirement already satisfied: nvidia-cudnn-cu11==8.5.0.96; platform_system == \"Linux\" and platform_machine == \"x86_64\" in /home/microshaoft/.local/lib/python3.9/site-packages (from torch<3.0.0,>=2.0.0->semantic-kernel==0.2.6.dev0->-r requirements.txt (line 1)) (8.5.0.96)\n",
            "Requirement already satisfied: nvidia-cuda-cupti-cu11==11.7.101; platform_system == \"Linux\" and platform_machine == \"x86_64\" in /home/microshaoft/.local/lib/python3.9/site-packages (from torch<3.0.0,>=2.0.0->semantic-kernel==0.2.6.dev0->-r requirements.txt (line 1)) (11.7.101)\n",
            "Requirement already satisfied: nvidia-cublas-cu11==11.10.3.66; platform_system == \"Linux\" and platform_machine == \"x86_64\" in /home/microshaoft/.local/lib/python3.9/site-packages (from torch<3.0.0,>=2.0.0->semantic-kernel==0.2.6.dev0->-r requirements.txt (line 1)) (11.10.3.66)\n",
            "Requirement already satisfied: nvidia-nccl-cu11==2.14.3; platform_system == \"Linux\" and platform_machine == \"x86_64\" in /home/microshaoft/.local/lib/python3.9/site-packages (from torch<3.0.0,>=2.0.0->semantic-kernel==0.2.6.dev0->-r requirements.txt (line 1)) (2.14.3)\n",
            "Requirement already satisfied: triton==2.0.0; platform_system == \"Linux\" and platform_machine == \"x86_64\" in /home/microshaoft/.local/lib/python3.9/site-packages (from torch<3.0.0,>=2.0.0->semantic-kernel==0.2.6.dev0->-r requirements.txt (line 1)) (2.0.0)\n",
            "Requirement already satisfied: nvidia-curand-cu11==10.2.10.91; platform_system == \"Linux\" and platform_machine == \"x86_64\" in /home/microshaoft/.local/lib/python3.9/site-packages (from torch<3.0.0,>=2.0.0->semantic-kernel==0.2.6.dev0->-r requirements.txt (line 1)) (10.2.10.91)\n",
            "Requirement already satisfied: nvidia-nvtx-cu11==11.7.91; platform_system == \"Linux\" and platform_machine == \"x86_64\" in /home/microshaoft/.local/lib/python3.9/site-packages (from torch<3.0.0,>=2.0.0->semantic-kernel==0.2.6.dev0->-r requirements.txt (line 1)) (11.7.91)\n",
            "Requirement already satisfied: nvidia-cusparse-cu11==11.7.4.91; platform_system == \"Linux\" and platform_machine == \"x86_64\" in /home/microshaoft/.local/lib/python3.9/site-packages (from torch<3.0.0,>=2.0.0->semantic-kernel==0.2.6.dev0->-r requirements.txt (line 1)) (11.7.4.91)\n",
            "Requirement already satisfied: nvidia-cuda-nvrtc-cu11==11.7.99; platform_system == \"Linux\" and platform_machine == \"x86_64\" in /home/microshaoft/.local/lib/python3.9/site-packages (from torch<3.0.0,>=2.0.0->semantic-kernel==0.2.6.dev0->-r requirements.txt (line 1)) (11.7.99)\n",
            "Requirement already satisfied: joblib>=1.1.1 in /home/microshaoft/.local/lib/python3.9/site-packages (from scikit-learn->sentence-transformers<3.0.0,>=2.2.2->semantic-kernel==0.2.6.dev0->-r requirements.txt (line 1)) (1.2.0)\n",
            "Requirement already satisfied: threadpoolctl>=2.0.0 in /home/microshaoft/.local/lib/python3.9/site-packages (from scikit-learn->sentence-transformers<3.0.0,>=2.2.2->semantic-kernel==0.2.6.dev0->-r requirements.txt (line 1)) (3.1.0)\n",
            "Requirement already satisfied: fsspec in /home/microshaoft/.local/lib/python3.9/site-packages (from huggingface-hub>=0.4.0->sentence-transformers<3.0.0,>=2.2.2->semantic-kernel==0.2.6.dev0->-r requirements.txt (line 1)) (2023.4.0)\n",
            "Requirement already satisfied: click in /usr/lib/python3/dist-packages (from nltk->sentence-transformers<3.0.0,>=2.2.2->semantic-kernel==0.2.6.dev0->-r requirements.txt (line 1)) (7.0)\n",
            "Requirement already satisfied: pillow!=8.3.*,>=5.3.0 in /home/microshaoft/.local/lib/python3.9/site-packages (from torchvision->sentence-transformers<3.0.0,>=2.2.2->semantic-kernel==0.2.6.dev0->-r requirements.txt (line 1)) (9.5.0)\n",
            "Requirement already satisfied: attrs>=17.3.0 in /usr/lib/python3/dist-packages (from aiohttp->openai<0.28.0,>=0.27.0->semantic-kernel==0.2.6.dev0->-r requirements.txt (line 1)) (19.3.0)\n",
            "Requirement already satisfied: aiosignal>=1.1.2 in /home/microshaoft/.local/lib/python3.9/site-packages (from aiohttp->openai<0.28.0,>=0.27.0->semantic-kernel==0.2.6.dev0->-r requirements.txt (line 1)) (1.3.1)\n",
            "Requirement already satisfied: multidict<7.0,>=4.5 in /home/microshaoft/.local/lib/python3.9/site-packages (from aiohttp->openai<0.28.0,>=0.27.0->semantic-kernel==0.2.6.dev0->-r requirements.txt (line 1)) (6.0.4)\n",
            "Requirement already satisfied: charset-normalizer<4.0,>=2.0 in /home/microshaoft/.local/lib/python3.9/site-packages (from aiohttp->openai<0.28.0,>=0.27.0->semantic-kernel==0.2.6.dev0->-r requirements.txt (line 1)) (3.1.0)\n",
            "Requirement already satisfied: frozenlist>=1.1.1 in /home/microshaoft/.local/lib/python3.9/site-packages (from aiohttp->openai<0.28.0,>=0.27.0->semantic-kernel==0.2.6.dev0->-r requirements.txt (line 1)) (1.3.3)\n",
            "Requirement already satisfied: async-timeout<5.0,>=4.0.0a3 in /home/microshaoft/.local/lib/python3.9/site-packages (from aiohttp->openai<0.28.0,>=0.27.0->semantic-kernel==0.2.6.dev0->-r requirements.txt (line 1)) (4.0.2)\n",
            "Requirement already satisfied: yarl<2.0,>=1.0 in /home/microshaoft/.local/lib/python3.9/site-packages (from aiohttp->openai<0.28.0,>=0.27.0->semantic-kernel==0.2.6.dev0->-r requirements.txt (line 1)) (1.8.2)\n",
            "Requirement already satisfied: mpmath>=0.19 in /home/microshaoft/.local/lib/python3.9/site-packages (from sympy->torch<3.0.0,>=2.0.0->semantic-kernel==0.2.6.dev0->-r requirements.txt (line 1)) (1.3.0)\n",
            "Requirement already satisfied: wheel in /usr/lib/python3/dist-packages (from nvidia-cuda-runtime-cu11==11.7.99; platform_system == \"Linux\" and platform_machine == \"x86_64\"->torch<3.0.0,>=2.0.0->semantic-kernel==0.2.6.dev0->-r requirements.txt (line 1)) (0.34.2)\n",
            "Requirement already satisfied: setuptools in /usr/lib/python3/dist-packages (from nvidia-cuda-runtime-cu11==11.7.99; platform_system == \"Linux\" and platform_machine == \"x86_64\"->torch<3.0.0,>=2.0.0->semantic-kernel==0.2.6.dev0->-r requirements.txt (line 1)) (45.2.0)\n",
            "Requirement already satisfied: lit in /home/microshaoft/.local/lib/python3.9/site-packages (from triton==2.0.0; platform_system == \"Linux\" and platform_machine == \"x86_64\"->torch<3.0.0,>=2.0.0->semantic-kernel==0.2.6.dev0->-r requirements.txt (line 1)) (16.0.2)\n",
            "Requirement already satisfied: cmake in /home/microshaoft/.local/lib/python3.9/site-packages (from triton==2.0.0; platform_system == \"Linux\" and platform_machine == \"x86_64\"->torch<3.0.0,>=2.0.0->semantic-kernel==0.2.6.dev0->-r requirements.txt (line 1)) (3.26.3)\n",
            "Requirement already satisfied: idna>=2.0 in /usr/lib/python3/dist-packages (from yarl<2.0,>=1.0->aiohttp->openai<0.28.0,>=0.27.0->semantic-kernel==0.2.6.dev0->-r requirements.txt (line 1)) (2.8)\n"
          ]
        }
      ],
      "source": [
        "!python3 -m pip install -r requirements.txt\n",
        "\n",
        "import os\n",
        "\n",
        "os.environ[\"http_proxy\"]= \"http://127.0.0.1:8888\"\n",
        "os.environ[\"https_proxy\"]= \"http://127.0.0.1:8888\"\n",
        "\n",
        "os.environ[\"http_proxy\"]= \"http://192.168.0.106:8888\"\n",
        "os.environ[\"https_proxy\"]= \"http://192.168.0.106:8888\"\n"
      ]
    },
    {
      "cell_type": "code",
      "execution_count": 2,
      "metadata": {},
      "outputs": [],
      "source": [
        "import semantic_kernel as sk\n",
        "from semantic_kernel.connectors.ai.open_ai import AzureTextCompletion, OpenAITextCompletion"
      ]
    },
    {
      "attachments": {},
      "cell_type": "markdown",
      "metadata": {},
      "source": [
        "You can instantiate the kernel in a few ways, depending on your use case."
      ]
    },
    {
      "cell_type": "code",
      "execution_count": 3,
      "metadata": {},
      "outputs": [],
      "source": [
        "# Simple instance\n",
        "kernel_1 = sk.Kernel()"
      ]
    },
    {
      "cell_type": "code",
      "execution_count": 4,
      "metadata": {},
      "outputs": [],
      "source": [
        "# Instance with a custom logger\n",
        "my_logger = sk.NullLogger()\n",
        "kernel_2 = sk.Kernel(log=my_logger)"
      ]
    },
    {
      "cell_type": "code",
      "execution_count": 5,
      "metadata": {},
      "outputs": [],
      "source": [
        "# Instance with a custom configuration\n",
        "my_config = sk.KernelConfig()\n",
        "kernel_2 = sk.Kernel(config=my_config)"
      ]
    },
    {
      "attachments": {},
      "cell_type": "markdown",
      "metadata": {},
      "source": [
        "When using the kernel for AI requests, the kernel needs some settings like URL and credentials to the AI models.\n",
        "\n",
        "The SDK currently supports OpenAI and Azure OpenAI, other services will be added over time.\n",
        "\n",
        "If you need an Azure OpenAI key, go [here](https://learn.microsoft.com/en-us/azure/cognitive-services/openai/quickstart?pivots=rest-api)."
      ]
    },
    {
      "cell_type": "code",
      "execution_count": 6,
      "metadata": {},
      "outputs": [
        {
          "name": "stderr",
          "output_type": "stream",
          "text": [
            "/usr/lib/python3/dist-packages/requests/__init__.py:89: RequestsDependencyWarning: urllib3 (1.26.15) or chardet (3.0.4) doesn't match a supported version!\n",
            "  warnings.warn(\"urllib3 ({}) or chardet ({}) doesn't match a supported \"\n"
          ]
        },
        {
          "data": {
            "text/plain": [
              "<semantic_kernel.kernel_config.KernelConfig at 0x7ff04c7036d0>"
            ]
          },
          "execution_count": 6,
          "metadata": {},
          "output_type": "execute_result"
        }
      ],
      "source": [
        "kernel = sk.Kernel()\n",
        "\n",
        "kernel.config.add_text_completion_service(               # We are adding a text service\n",
        "    \"Azure_curie\",                            # The alias we can use in prompt templates' config.json\n",
        "    AzureTextCompletion(\n",
        "        \"my-finetuned-Curie\",                 # Azure OpenAI *Deployment ID*\n",
        "        \"https://contoso.openai.azure.com/\",  # Azure OpenAI *Endpoint*\n",
        "        \"...your Azure OpenAI Key...\"         # Azure OpenAI *Key*\n",
        "    )\n",
        ")\n",
        "\n",
        "kernel.config.add_text_completion_service(               # We are adding a text service\n",
        "    \"OpenAI_davinci\",                         # The alias we can use in prompt templates' config.json\n",
        "    OpenAITextCompletion(\n",
        "        \"text-davinci-003\",                   # OpenAI Model Name\n",
        "        \"...your OpenAI API Key...\",          # OpenAI API key\n",
        "        \"...your OpenAI Org ID...\"            # *optional* OpenAI Organization ID\n",
        "    )\n",
        ")"
      ]
    },
    {
      "attachments": {},
      "cell_type": "markdown",
      "metadata": {},
      "source": [
        "When working with multiple services and multiple models, the **first service** defined\n",
        "is also the \"**default**\" used in these scenarios:\n",
        "\n",
        "* a prompt configuration doesn't specify which AI service to use\n",
        "* a prompt configuration requires a service unknown to the kernel\n",
        "\n",
        "The default can be set and changed programmatically:"
      ]
    },
    {
      "cell_type": "code",
      "execution_count": 7,
      "metadata": {},
      "outputs": [
        {
          "data": {
            "text/plain": [
              "<semantic_kernel.kernel_config.KernelConfig at 0x7ff04c7036d0>"
            ]
          },
          "execution_count": 7,
          "metadata": {},
          "output_type": "execute_result"
        }
      ],
      "source": [
        "kernel.config.set_default_text_completion_service(\"Azure_curie\")"
      ]
    },
    {
      "attachments": {},
      "cell_type": "markdown",
      "metadata": {},
      "source": [
        "Great, now that you're familiar with setting up the Semantic Kernel, let's see [how we can use it to run prompts](02-running-prompts-from-file.ipynb)."
      ]
    }
  ],
  "metadata": {
    "kernelspec": {
      "display_name": "Python 3",
      "language": "python",
      "name": "python3"
    },
    "language_info": {
      "codemirror_mode": {
        "name": "ipython",
        "version": 3
      },
      "file_extension": ".py",
      "mimetype": "text/x-python",
      "name": "python",
      "nbconvert_exporter": "python",
      "pygments_lexer": "ipython3",
      "version": "3.9.5"
    },
    "polyglot_notebook": {
      "kernelInfo": {
        "items": [
          {
            "aliases": [
              "frontend"
            ],
            "name": "vscode"
          }
        ]
      }
    }
  },
  "nbformat": 4,
  "nbformat_minor": 2
}
