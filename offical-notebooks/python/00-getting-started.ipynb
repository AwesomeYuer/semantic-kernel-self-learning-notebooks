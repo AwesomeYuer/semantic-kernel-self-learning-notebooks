{
  "cells": [
    {
      "attachments": {},
      "cell_type": "markdown",
      "metadata": {},
      "source": [
        "# Setup\n",
        "\n",
        "**Step 1**: Import Semantic Kernel SDK from pypi.org"
      ]
    },
    {
      "cell_type": "code",
      "execution_count": 14,
      "metadata": {},
      "outputs": [
        {
          "name": "stdout",
          "output_type": "stream",
          "text": [
            "Requirement already satisfied: semantic-kernel==0.2.6.dev0 in /home/microshaoft/.local/lib/python3.9/site-packages (from -r requirements.txt (line 1)) (0.2.6.dev0)\n",
            "Requirement already satisfied: numpy<2.0.0,>=1.24.2 in /home/microshaoft/.local/lib/python3.9/site-packages (from semantic-kernel==0.2.6.dev0->-r requirements.txt (line 1)) (1.24.2)\n",
            "Requirement already satisfied: openai<0.28.0,>=0.27.0 in /home/microshaoft/.local/lib/python3.9/site-packages (from semantic-kernel==0.2.6.dev0->-r requirements.txt (line 1)) (0.27.4)\n",
            "Requirement already satisfied: sentence-transformers<3.0.0,>=2.2.2 in /home/microshaoft/.local/lib/python3.9/site-packages (from semantic-kernel==0.2.6.dev0->-r requirements.txt (line 1)) (2.2.2)\n",
            "Requirement already satisfied: aiofiles<24.0.0,>=23.1.0 in /home/microshaoft/.local/lib/python3.9/site-packages (from semantic-kernel==0.2.6.dev0->-r requirements.txt (line 1)) (23.1.0)\n",
            "Requirement already satisfied: torch<3.0.0,>=2.0.0 in /home/microshaoft/.local/lib/python3.9/site-packages (from semantic-kernel==0.2.6.dev0->-r requirements.txt (line 1)) (2.0.0)\n",
            "Requirement already satisfied: transformers<5.0.0,>=4.28.1 in /home/microshaoft/.local/lib/python3.9/site-packages (from semantic-kernel==0.2.6.dev0->-r requirements.txt (line 1)) (4.28.1)\n",
            "Requirement already satisfied: requests>=2.20 in /usr/lib/python3/dist-packages (from openai<0.28.0,>=0.27.0->semantic-kernel==0.2.6.dev0->-r requirements.txt (line 1)) (2.22.0)\n",
            "Requirement already satisfied: aiohttp in /home/microshaoft/.local/lib/python3.9/site-packages (from openai<0.28.0,>=0.27.0->semantic-kernel==0.2.6.dev0->-r requirements.txt (line 1)) (3.8.4)\n",
            "Requirement already satisfied: tqdm in /home/microshaoft/.local/lib/python3.9/site-packages (from openai<0.28.0,>=0.27.0->semantic-kernel==0.2.6.dev0->-r requirements.txt (line 1)) (4.65.0)\n",
            "Requirement already satisfied: scipy in /home/microshaoft/.local/lib/python3.9/site-packages (from sentence-transformers<3.0.0,>=2.2.2->semantic-kernel==0.2.6.dev0->-r requirements.txt (line 1)) (1.10.1)\n",
            "Requirement already satisfied: scikit-learn in /home/microshaoft/.local/lib/python3.9/site-packages (from sentence-transformers<3.0.0,>=2.2.2->semantic-kernel==0.2.6.dev0->-r requirements.txt (line 1)) (1.2.2)\n",
            "Requirement already satisfied: huggingface-hub>=0.4.0 in /home/microshaoft/.local/lib/python3.9/site-packages (from sentence-transformers<3.0.0,>=2.2.2->semantic-kernel==0.2.6.dev0->-r requirements.txt (line 1)) (0.14.1)\n",
            "Requirement already satisfied: nltk in /home/microshaoft/.local/lib/python3.9/site-packages (from sentence-transformers<3.0.0,>=2.2.2->semantic-kernel==0.2.6.dev0->-r requirements.txt (line 1)) (3.8.1)\n",
            "Requirement already satisfied: torchvision in /home/microshaoft/.local/lib/python3.9/site-packages (from sentence-transformers<3.0.0,>=2.2.2->semantic-kernel==0.2.6.dev0->-r requirements.txt (line 1)) (0.15.1)\n",
            "Requirement already satisfied: sentencepiece in /home/microshaoft/.local/lib/python3.9/site-packages (from sentence-transformers<3.0.0,>=2.2.2->semantic-kernel==0.2.6.dev0->-r requirements.txt (line 1)) (0.1.99)\n",
            "Requirement already satisfied: nvidia-cublas-cu11==11.10.3.66; platform_system == \"Linux\" and platform_machine == \"x86_64\" in /home/microshaoft/.local/lib/python3.9/site-packages (from torch<3.0.0,>=2.0.0->semantic-kernel==0.2.6.dev0->-r requirements.txt (line 1)) (11.10.3.66)\n",
            "Requirement already satisfied: sympy in /home/microshaoft/.local/lib/python3.9/site-packages (from torch<3.0.0,>=2.0.0->semantic-kernel==0.2.6.dev0->-r requirements.txt (line 1)) (1.11.1)\n",
            "Requirement already satisfied: nvidia-cufft-cu11==10.9.0.58; platform_system == \"Linux\" and platform_machine == \"x86_64\" in /home/microshaoft/.local/lib/python3.9/site-packages (from torch<3.0.0,>=2.0.0->semantic-kernel==0.2.6.dev0->-r requirements.txt (line 1)) (10.9.0.58)\n",
            "Requirement already satisfied: networkx in /home/microshaoft/.local/lib/python3.9/site-packages (from torch<3.0.0,>=2.0.0->semantic-kernel==0.2.6.dev0->-r requirements.txt (line 1)) (3.1)\n",
            "Requirement already satisfied: nvidia-nvtx-cu11==11.7.91; platform_system == \"Linux\" and platform_machine == \"x86_64\" in /home/microshaoft/.local/lib/python3.9/site-packages (from torch<3.0.0,>=2.0.0->semantic-kernel==0.2.6.dev0->-r requirements.txt (line 1)) (11.7.91)\n",
            "Requirement already satisfied: triton==2.0.0; platform_system == \"Linux\" and platform_machine == \"x86_64\" in /home/microshaoft/.local/lib/python3.9/site-packages (from torch<3.0.0,>=2.0.0->semantic-kernel==0.2.6.dev0->-r requirements.txt (line 1)) (2.0.0)\n",
            "Requirement already satisfied: filelock in /home/microshaoft/.local/lib/python3.9/site-packages (from torch<3.0.0,>=2.0.0->semantic-kernel==0.2.6.dev0->-r requirements.txt (line 1)) (3.12.0)\n",
            "Requirement already satisfied: nvidia-cuda-runtime-cu11==11.7.99; platform_system == \"Linux\" and platform_machine == \"x86_64\" in /home/microshaoft/.local/lib/python3.9/site-packages (from torch<3.0.0,>=2.0.0->semantic-kernel==0.2.6.dev0->-r requirements.txt (line 1)) (11.7.99)\n",
            "Requirement already satisfied: nvidia-nccl-cu11==2.14.3; platform_system == \"Linux\" and platform_machine == \"x86_64\" in /home/microshaoft/.local/lib/python3.9/site-packages (from torch<3.0.0,>=2.0.0->semantic-kernel==0.2.6.dev0->-r requirements.txt (line 1)) (2.14.3)\n",
            "Requirement already satisfied: nvidia-curand-cu11==10.2.10.91; platform_system == \"Linux\" and platform_machine == \"x86_64\" in /home/microshaoft/.local/lib/python3.9/site-packages (from torch<3.0.0,>=2.0.0->semantic-kernel==0.2.6.dev0->-r requirements.txt (line 1)) (10.2.10.91)\n",
            "Requirement already satisfied: nvidia-cuda-nvrtc-cu11==11.7.99; platform_system == \"Linux\" and platform_machine == \"x86_64\" in /home/microshaoft/.local/lib/python3.9/site-packages (from torch<3.0.0,>=2.0.0->semantic-kernel==0.2.6.dev0->-r requirements.txt (line 1)) (11.7.99)\n",
            "Requirement already satisfied: nvidia-cuda-cupti-cu11==11.7.101; platform_system == \"Linux\" and platform_machine == \"x86_64\" in /home/microshaoft/.local/lib/python3.9/site-packages (from torch<3.0.0,>=2.0.0->semantic-kernel==0.2.6.dev0->-r requirements.txt (line 1)) (11.7.101)\n",
            "Requirement already satisfied: typing-extensions in /home/microshaoft/.local/lib/python3.9/site-packages (from torch<3.0.0,>=2.0.0->semantic-kernel==0.2.6.dev0->-r requirements.txt (line 1)) (4.5.0)\n",
            "Requirement already satisfied: jinja2 in /usr/lib/python3/dist-packages (from torch<3.0.0,>=2.0.0->semantic-kernel==0.2.6.dev0->-r requirements.txt (line 1)) (2.10.1)\n",
            "Requirement already satisfied: nvidia-cudnn-cu11==8.5.0.96; platform_system == \"Linux\" and platform_machine == \"x86_64\" in /home/microshaoft/.local/lib/python3.9/site-packages (from torch<3.0.0,>=2.0.0->semantic-kernel==0.2.6.dev0->-r requirements.txt (line 1)) (8.5.0.96)\n",
            "Requirement already satisfied: nvidia-cusparse-cu11==11.7.4.91; platform_system == \"Linux\" and platform_machine == \"x86_64\" in /home/microshaoft/.local/lib/python3.9/site-packages (from torch<3.0.0,>=2.0.0->semantic-kernel==0.2.6.dev0->-r requirements.txt (line 1)) (11.7.4.91)\n",
            "Requirement already satisfied: nvidia-cusolver-cu11==11.4.0.1; platform_system == \"Linux\" and platform_machine == \"x86_64\" in /home/microshaoft/.local/lib/python3.9/site-packages (from torch<3.0.0,>=2.0.0->semantic-kernel==0.2.6.dev0->-r requirements.txt (line 1)) (11.4.0.1)\n",
            "Requirement already satisfied: pyyaml>=5.1 in /home/microshaoft/.local/lib/python3.9/site-packages (from transformers<5.0.0,>=4.28.1->semantic-kernel==0.2.6.dev0->-r requirements.txt (line 1)) (6.0)\n",
            "Requirement already satisfied: tokenizers!=0.11.3,<0.14,>=0.11.1 in /home/microshaoft/.local/lib/python3.9/site-packages (from transformers<5.0.0,>=4.28.1->semantic-kernel==0.2.6.dev0->-r requirements.txt (line 1)) (0.13.3)\n",
            "Requirement already satisfied: regex!=2019.12.17 in /home/microshaoft/.local/lib/python3.9/site-packages (from transformers<5.0.0,>=4.28.1->semantic-kernel==0.2.6.dev0->-r requirements.txt (line 1)) (2023.5.5)\n",
            "Requirement already satisfied: packaging>=20.0 in /home/microshaoft/.local/lib/python3.9/site-packages (from transformers<5.0.0,>=4.28.1->semantic-kernel==0.2.6.dev0->-r requirements.txt (line 1)) (23.0)\n",
            "Requirement already satisfied: attrs>=17.3.0 in /usr/lib/python3/dist-packages (from aiohttp->openai<0.28.0,>=0.27.0->semantic-kernel==0.2.6.dev0->-r requirements.txt (line 1)) (19.3.0)\n",
            "Requirement already satisfied: frozenlist>=1.1.1 in /home/microshaoft/.local/lib/python3.9/site-packages (from aiohttp->openai<0.28.0,>=0.27.0->semantic-kernel==0.2.6.dev0->-r requirements.txt (line 1)) (1.3.3)\n",
            "Requirement already satisfied: yarl<2.0,>=1.0 in /home/microshaoft/.local/lib/python3.9/site-packages (from aiohttp->openai<0.28.0,>=0.27.0->semantic-kernel==0.2.6.dev0->-r requirements.txt (line 1)) (1.8.2)\n",
            "Requirement already satisfied: multidict<7.0,>=4.5 in /home/microshaoft/.local/lib/python3.9/site-packages (from aiohttp->openai<0.28.0,>=0.27.0->semantic-kernel==0.2.6.dev0->-r requirements.txt (line 1)) (6.0.4)\n",
            "Requirement already satisfied: async-timeout<5.0,>=4.0.0a3 in /home/microshaoft/.local/lib/python3.9/site-packages (from aiohttp->openai<0.28.0,>=0.27.0->semantic-kernel==0.2.6.dev0->-r requirements.txt (line 1)) (4.0.2)\n",
            "Requirement already satisfied: charset-normalizer<4.0,>=2.0 in /home/microshaoft/.local/lib/python3.9/site-packages (from aiohttp->openai<0.28.0,>=0.27.0->semantic-kernel==0.2.6.dev0->-r requirements.txt (line 1)) (3.1.0)\n",
            "Requirement already satisfied: aiosignal>=1.1.2 in /home/microshaoft/.local/lib/python3.9/site-packages (from aiohttp->openai<0.28.0,>=0.27.0->semantic-kernel==0.2.6.dev0->-r requirements.txt (line 1)) (1.3.1)\n",
            "Requirement already satisfied: threadpoolctl>=2.0.0 in /home/microshaoft/.local/lib/python3.9/site-packages (from scikit-learn->sentence-transformers<3.0.0,>=2.2.2->semantic-kernel==0.2.6.dev0->-r requirements.txt (line 1)) (3.1.0)\n",
            "Requirement already satisfied: joblib>=1.1.1 in /home/microshaoft/.local/lib/python3.9/site-packages (from scikit-learn->sentence-transformers<3.0.0,>=2.2.2->semantic-kernel==0.2.6.dev0->-r requirements.txt (line 1)) (1.2.0)\n",
            "Requirement already satisfied: fsspec in /home/microshaoft/.local/lib/python3.9/site-packages (from huggingface-hub>=0.4.0->sentence-transformers<3.0.0,>=2.2.2->semantic-kernel==0.2.6.dev0->-r requirements.txt (line 1)) (2023.4.0)\n",
            "Requirement already satisfied: click in /usr/lib/python3/dist-packages (from nltk->sentence-transformers<3.0.0,>=2.2.2->semantic-kernel==0.2.6.dev0->-r requirements.txt (line 1)) (7.0)\n",
            "Requirement already satisfied: pillow!=8.3.*,>=5.3.0 in /home/microshaoft/.local/lib/python3.9/site-packages (from torchvision->sentence-transformers<3.0.0,>=2.2.2->semantic-kernel==0.2.6.dev0->-r requirements.txt (line 1)) (9.5.0)\n",
            "Requirement already satisfied: wheel in /usr/lib/python3/dist-packages (from nvidia-cublas-cu11==11.10.3.66; platform_system == \"Linux\" and platform_machine == \"x86_64\"->torch<3.0.0,>=2.0.0->semantic-kernel==0.2.6.dev0->-r requirements.txt (line 1)) (0.34.2)\n",
            "Requirement already satisfied: setuptools in /usr/lib/python3/dist-packages (from nvidia-cublas-cu11==11.10.3.66; platform_system == \"Linux\" and platform_machine == \"x86_64\"->torch<3.0.0,>=2.0.0->semantic-kernel==0.2.6.dev0->-r requirements.txt (line 1)) (45.2.0)\n",
            "Requirement already satisfied: mpmath>=0.19 in /home/microshaoft/.local/lib/python3.9/site-packages (from sympy->torch<3.0.0,>=2.0.0->semantic-kernel==0.2.6.dev0->-r requirements.txt (line 1)) (1.3.0)\n",
            "Requirement already satisfied: lit in /home/microshaoft/.local/lib/python3.9/site-packages (from triton==2.0.0; platform_system == \"Linux\" and platform_machine == \"x86_64\"->torch<3.0.0,>=2.0.0->semantic-kernel==0.2.6.dev0->-r requirements.txt (line 1)) (16.0.2)\n",
            "Requirement already satisfied: cmake in /home/microshaoft/.local/lib/python3.9/site-packages (from triton==2.0.0; platform_system == \"Linux\" and platform_machine == \"x86_64\"->torch<3.0.0,>=2.0.0->semantic-kernel==0.2.6.dev0->-r requirements.txt (line 1)) (3.26.3)\n",
            "Requirement already satisfied: idna>=2.0 in /usr/lib/python3/dist-packages (from yarl<2.0,>=1.0->aiohttp->openai<0.28.0,>=0.27.0->semantic-kernel==0.2.6.dev0->-r requirements.txt (line 1)) (2.8)\n"
          ]
        }
      ],
      "source": [
        "!python3 -m pip install -r requirements.txt\n",
        "\n",
        "# Alternatively, you can install from the local workspace using this command\n",
        "#!python -m pip install ../../../python\n",
        "\n",
        "import semantic_kernel as sk\n",
        "import os\n",
        "\n",
        "os.environ[\"http_proxy\"]= \"http://127.0.0.1:8888\"\n",
        "os.environ[\"https_proxy\"]= \"http://127.0.0.1:8888\"\n",
        "\n",
        "os.environ[\"http_proxy\"]= \"http://192.168.0.106:8888\"\n",
        "os.environ[\"https_proxy\"]= \"http://192.168.0.106:8888\"\n",
        "\n",
        "kernel = sk.Kernel()"
      ]
    },
    {
      "attachments": {},
      "cell_type": "markdown",
      "metadata": {},
      "source": [
        "## Option 1: using OpenAI\n",
        "\n",
        "**Step 2**: Add your [Open AI Key](https://openai.com/api/) key to a `.env` file in the same folder (org Id only if you have multiple orgs):\n",
        "\n",
        "```\n",
        "OPENAI_API_KEY=\"sk-...\"\n",
        "OPENAI_ORG_ID=\"\"\n",
        "```\n",
        "\n",
        "and add OpenAI Text Completion to the kernel:"
      ]
    },
    {
      "cell_type": "code",
      "execution_count": 10,
      "metadata": {},
      "outputs": [
        {
          "data": {
            "text/plain": [
              "<semantic_kernel.kernel_config.KernelConfig at 0x7f4c94c12f10>"
            ]
          },
          "execution_count": 10,
          "metadata": {},
          "output_type": "execute_result"
        }
      ],
      "source": [
        "from semantic_kernel.connectors.ai.open_ai import OpenAITextCompletion\n",
        "\n",
        "api_key, org_id = sk.openai_settings_from_dot_env()\n",
        "\n",
        "kernel.config.add_text_completion_service(\"dv\", OpenAITextCompletion(\"text-davinci-003\", api_key, org_id))"
      ]
    },
    {
      "attachments": {},
      "cell_type": "markdown",
      "metadata": {},
      "source": [
        "## Option 2: using Azure OpenAI\n",
        "\n",
        "**Step 2**: Add your [Azure Open AI Service key](https://learn.microsoft.com/azure/cognitive-services/openai/quickstart?pivots=programming-language-studio) settings to a `.env` file in the same folder:\n",
        "\n",
        "```\n",
        "AZURE_OPENAI_API_KEY=\"...\"\n",
        "AZURE_OPENAI_ENDPOINT=\"https://...\"\n",
        "AZURE_OPENAI_DEPLOYMENT_NAME=\"...\"\n",
        "```\n",
        "\n",
        "and add Azure OpenAI Text Completion to the kernel:"
      ]
    },
    {
      "cell_type": "code",
      "execution_count": 15,
      "metadata": {},
      "outputs": [
        {
          "data": {
            "text/plain": [
              "<semantic_kernel.kernel_config.KernelConfig at 0x7f4c94bafca0>"
            ]
          },
          "execution_count": 15,
          "metadata": {},
          "output_type": "execute_result"
        }
      ],
      "source": [
        "from semantic_kernel.connectors.ai.open_ai import AzureTextCompletion\n",
        "\n",
        "deployment, api_key, endpoint = sk.azure_openai_settings_from_dot_env()\n",
        "\n",
        "kernel.config.add_text_completion_service(\"dv\", AzureTextCompletion(deployment, endpoint, api_key))"
      ]
    },
    {
      "attachments": {},
      "cell_type": "markdown",
      "metadata": {},
      "source": [
        "# Run a Semantic Function\n",
        "\n",
        "**Step 3**: Load a Skill and run a semantic function:"
      ]
    },
    {
      "cell_type": "code",
      "execution_count": 16,
      "metadata": {},
      "outputs": [
        {
          "name": "stdout",
          "output_type": "stream",
          "text": [
            "\n",
            "A time traveler went back to the dinosaur age and was amazed by the size of the creatures. He asked one of the dinosaurs, \"How do you manage to get around with such short legs?\"\n",
            "\n",
            "The dinosaur replied, \"It's easy, I just take my time!\"\n"
          ]
        }
      ],
      "source": [
        "skill = kernel.import_semantic_skill_from_directory(\"../../skills\", \"FunSkill\")\n",
        "joke_function = skill[\"Joke\"]\n",
        "\n",
        "print(joke_function(\"time travel to dinosaur age\"))"
      ]
    }
  ],
  "metadata": {
    "kernelspec": {
      "display_name": "Python 3",
      "language": "python",
      "name": "python3"
    },
    "language_info": {
      "codemirror_mode": {
        "name": "ipython",
        "version": 3
      },
      "file_extension": ".py",
      "mimetype": "text/x-python",
      "name": "python",
      "nbconvert_exporter": "python",
      "pygments_lexer": "ipython3",
      "version": "3.9.5"
    },
    "orig_nbformat": 4
  },
  "nbformat": 4,
  "nbformat_minor": 2
}
