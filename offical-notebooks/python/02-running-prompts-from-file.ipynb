{
  "cells": [
    {
      "attachments": {},
      "cell_type": "markdown",
      "id": "692e361b",
      "metadata": {},
      "source": [
        "# How to run a semantic skills from file\n",
        "Now that you're familiar with Kernel basics, let's see how the kernel allows you to run Semantic Skills and Semantic Functions stored on disk. \n",
        "\n",
        "A Semantic Skill is a collection of Semantic Functions, where each function is defined with natural language that can be provided with a text file. \n",
        "\n",
        "Refer to our [glossary](https://github.com/microsoft/semantic-kernel/blob/main/docs/GLOSSARY.md) for an in-depth guide to the terms.\n",
        "\n",
        "The repository includes some examples under the [samples](https://github.com/microsoft/semantic-kernel/tree/main/samples) folder.\n",
        "\n",
        "For instance, [this](../../skills/FunSkill/Joke/skprompt.txt) is the **Joke function** part of the **FunSkill skill**:"
      ]
    },
    {
      "attachments": {},
      "cell_type": "markdown",
      "id": "f3ce1efe",
      "metadata": {},
      "source": [
        "```\n",
        "WRITE EXACTLY ONE JOKE or HUMOROUS STORY ABOUT THE TOPIC BELOW.\n",
        "JOKE MUST BE:\n",
        "- G RATED\n",
        "- WORKPLACE/FAMILY SAFE\n",
        "NO SEXISM, RACISM OR OTHER BIAS/BIGOTRY.\n",
        "BE CREATIVE AND FUNNY. I WANT TO LAUGH.\n",
        "+++++\n",
        "{{$input}}\n",
        "+++++\n",
        "```"
      ]
    },
    {
      "attachments": {},
      "cell_type": "markdown",
      "id": "afdb96d6",
      "metadata": {},
      "source": [
        "Note the special **`{{$input}}`** token, which is a variable that is automatically passed when invoking the function, commonly referred to as a \"function parameter\". \n",
        "\n",
        "We'll explore later how functions can accept multiple variables, as well as invoke other functions."
      ]
    },
    {
      "attachments": {},
      "cell_type": "markdown",
      "id": "c3bd5134",
      "metadata": {},
      "source": [
        "\n",
        "In the same folder you'll notice a second [config.json](../../skills/FunSkill/Joke/config.json) file. The file is optional, and is used to set some parameters for large language models like Temperature, TopP, Stop Sequences, etc.\n",
        "\n",
        "```\n",
        "{\n",
        "  \"schema\": 1,\n",
        "  \"type\": \"completion\",\n",
        "  \"description\": \"Generate a funny joke\",\n",
        "  \"completion\": {\n",
        "    \"max_tokens\": 500,\n",
        "    \"temperature\": 0.5,\n",
        "    \"top_p\": 0.5\n",
        "  }\n",
        "}\n",
        "```"
      ]
    },
    {
      "attachments": {},
      "cell_type": "markdown",
      "id": "384ff07f",
      "metadata": {},
      "source": [
        "Given a semantic function defined by these files, this is how to load and use a file based semantic function.\n",
        "\n",
        "Load and configure the kernel, as usual, loading also the AI service settings defined in the [Setup notebook](00-getting-started.ipynb):"
      ]
    },
    {
      "cell_type": "code",
      "execution_count": 1,
      "id": "365cfc01",
      "metadata": {},
      "outputs": [
        {
          "name": "stdout",
          "output_type": "stream",
          "text": [
            "Requirement already satisfied: semantic-kernel==0.2.6.dev0 in /home/microshaoft/.local/lib/python3.9/site-packages (from -r requirements.txt (line 1)) (0.2.6.dev0)\n",
            "Requirement already satisfied: transformers<5.0.0,>=4.28.1 in /home/microshaoft/.local/lib/python3.9/site-packages (from semantic-kernel==0.2.6.dev0->-r requirements.txt (line 1)) (4.28.1)\n",
            "Requirement already satisfied: openai<0.28.0,>=0.27.0 in /home/microshaoft/.local/lib/python3.9/site-packages (from semantic-kernel==0.2.6.dev0->-r requirements.txt (line 1)) (0.27.4)\n",
            "Requirement already satisfied: torch<3.0.0,>=2.0.0 in /home/microshaoft/.local/lib/python3.9/site-packages (from semantic-kernel==0.2.6.dev0->-r requirements.txt (line 1)) (2.0.0)\n",
            "Requirement already satisfied: sentence-transformers<3.0.0,>=2.2.2 in /home/microshaoft/.local/lib/python3.9/site-packages (from semantic-kernel==0.2.6.dev0->-r requirements.txt (line 1)) (2.2.2)\n",
            "Requirement already satisfied: aiofiles<24.0.0,>=23.1.0 in /home/microshaoft/.local/lib/python3.9/site-packages (from semantic-kernel==0.2.6.dev0->-r requirements.txt (line 1)) (23.1.0)\n",
            "Requirement already satisfied: numpy<2.0.0,>=1.24.2 in /home/microshaoft/.local/lib/python3.9/site-packages (from semantic-kernel==0.2.6.dev0->-r requirements.txt (line 1)) (1.24.2)\n",
            "Requirement already satisfied: requests in /usr/lib/python3/dist-packages (from transformers<5.0.0,>=4.28.1->semantic-kernel==0.2.6.dev0->-r requirements.txt (line 1)) (2.22.0)\n",
            "Requirement already satisfied: filelock in /home/microshaoft/.local/lib/python3.9/site-packages (from transformers<5.0.0,>=4.28.1->semantic-kernel==0.2.6.dev0->-r requirements.txt (line 1)) (3.12.0)\n",
            "Requirement already satisfied: packaging>=20.0 in /home/microshaoft/.local/lib/python3.9/site-packages (from transformers<5.0.0,>=4.28.1->semantic-kernel==0.2.6.dev0->-r requirements.txt (line 1)) (23.0)\n",
            "Requirement already satisfied: huggingface-hub<1.0,>=0.11.0 in /home/microshaoft/.local/lib/python3.9/site-packages (from transformers<5.0.0,>=4.28.1->semantic-kernel==0.2.6.dev0->-r requirements.txt (line 1)) (0.14.1)\n",
            "Requirement already satisfied: tqdm>=4.27 in /home/microshaoft/.local/lib/python3.9/site-packages (from transformers<5.0.0,>=4.28.1->semantic-kernel==0.2.6.dev0->-r requirements.txt (line 1)) (4.65.0)\n",
            "Requirement already satisfied: tokenizers!=0.11.3,<0.14,>=0.11.1 in /home/microshaoft/.local/lib/python3.9/site-packages (from transformers<5.0.0,>=4.28.1->semantic-kernel==0.2.6.dev0->-r requirements.txt (line 1)) (0.13.3)\n",
            "Requirement already satisfied: regex!=2019.12.17 in /home/microshaoft/.local/lib/python3.9/site-packages (from transformers<5.0.0,>=4.28.1->semantic-kernel==0.2.6.dev0->-r requirements.txt (line 1)) (2023.5.5)\n",
            "Requirement already satisfied: pyyaml>=5.1 in /home/microshaoft/.local/lib/python3.9/site-packages (from transformers<5.0.0,>=4.28.1->semantic-kernel==0.2.6.dev0->-r requirements.txt (line 1)) (6.0)\n",
            "Requirement already satisfied: aiohttp in /home/microshaoft/.local/lib/python3.9/site-packages (from openai<0.28.0,>=0.27.0->semantic-kernel==0.2.6.dev0->-r requirements.txt (line 1)) (3.8.4)\n",
            "Requirement already satisfied: nvidia-cuda-nvrtc-cu11==11.7.99; platform_system == \"Linux\" and platform_machine == \"x86_64\" in /home/microshaoft/.local/lib/python3.9/site-packages (from torch<3.0.0,>=2.0.0->semantic-kernel==0.2.6.dev0->-r requirements.txt (line 1)) (11.7.99)\n",
            "Requirement already satisfied: jinja2 in /usr/lib/python3/dist-packages (from torch<3.0.0,>=2.0.0->semantic-kernel==0.2.6.dev0->-r requirements.txt (line 1)) (2.10.1)\n",
            "Requirement already satisfied: nvidia-cublas-cu11==11.10.3.66; platform_system == \"Linux\" and platform_machine == \"x86_64\" in /home/microshaoft/.local/lib/python3.9/site-packages (from torch<3.0.0,>=2.0.0->semantic-kernel==0.2.6.dev0->-r requirements.txt (line 1)) (11.10.3.66)\n",
            "Requirement already satisfied: nvidia-cufft-cu11==10.9.0.58; platform_system == \"Linux\" and platform_machine == \"x86_64\" in /home/microshaoft/.local/lib/python3.9/site-packages (from torch<3.0.0,>=2.0.0->semantic-kernel==0.2.6.dev0->-r requirements.txt (line 1)) (10.9.0.58)\n",
            "Requirement already satisfied: nvidia-cusparse-cu11==11.7.4.91; platform_system == \"Linux\" and platform_machine == \"x86_64\" in /home/microshaoft/.local/lib/python3.9/site-packages (from torch<3.0.0,>=2.0.0->semantic-kernel==0.2.6.dev0->-r requirements.txt (line 1)) (11.7.4.91)\n",
            "Requirement already satisfied: typing-extensions in /home/microshaoft/.local/lib/python3.9/site-packages (from torch<3.0.0,>=2.0.0->semantic-kernel==0.2.6.dev0->-r requirements.txt (line 1)) (4.5.0)\n",
            "Requirement already satisfied: nvidia-curand-cu11==10.2.10.91; platform_system == \"Linux\" and platform_machine == \"x86_64\" in /home/microshaoft/.local/lib/python3.9/site-packages (from torch<3.0.0,>=2.0.0->semantic-kernel==0.2.6.dev0->-r requirements.txt (line 1)) (10.2.10.91)\n",
            "Requirement already satisfied: nvidia-cuda-cupti-cu11==11.7.101; platform_system == \"Linux\" and platform_machine == \"x86_64\" in /home/microshaoft/.local/lib/python3.9/site-packages (from torch<3.0.0,>=2.0.0->semantic-kernel==0.2.6.dev0->-r requirements.txt (line 1)) (11.7.101)\n",
            "Requirement already satisfied: nvidia-nccl-cu11==2.14.3; platform_system == \"Linux\" and platform_machine == \"x86_64\" in /home/microshaoft/.local/lib/python3.9/site-packages (from torch<3.0.0,>=2.0.0->semantic-kernel==0.2.6.dev0->-r requirements.txt (line 1)) (2.14.3)\n",
            "Requirement already satisfied: networkx in /home/microshaoft/.local/lib/python3.9/site-packages (from torch<3.0.0,>=2.0.0->semantic-kernel==0.2.6.dev0->-r requirements.txt (line 1)) (3.1)\n",
            "Requirement already satisfied: sympy in /home/microshaoft/.local/lib/python3.9/site-packages (from torch<3.0.0,>=2.0.0->semantic-kernel==0.2.6.dev0->-r requirements.txt (line 1)) (1.11.1)\n",
            "Requirement already satisfied: nvidia-cuda-runtime-cu11==11.7.99; platform_system == \"Linux\" and platform_machine == \"x86_64\" in /home/microshaoft/.local/lib/python3.9/site-packages (from torch<3.0.0,>=2.0.0->semantic-kernel==0.2.6.dev0->-r requirements.txt (line 1)) (11.7.99)\n",
            "Requirement already satisfied: nvidia-cudnn-cu11==8.5.0.96; platform_system == \"Linux\" and platform_machine == \"x86_64\" in /home/microshaoft/.local/lib/python3.9/site-packages (from torch<3.0.0,>=2.0.0->semantic-kernel==0.2.6.dev0->-r requirements.txt (line 1)) (8.5.0.96)\n",
            "Requirement already satisfied: nvidia-nvtx-cu11==11.7.91; platform_system == \"Linux\" and platform_machine == \"x86_64\" in /home/microshaoft/.local/lib/python3.9/site-packages (from torch<3.0.0,>=2.0.0->semantic-kernel==0.2.6.dev0->-r requirements.txt (line 1)) (11.7.91)\n",
            "Requirement already satisfied: triton==2.0.0; platform_system == \"Linux\" and platform_machine == \"x86_64\" in /home/microshaoft/.local/lib/python3.9/site-packages (from torch<3.0.0,>=2.0.0->semantic-kernel==0.2.6.dev0->-r requirements.txt (line 1)) (2.0.0)\n",
            "Requirement already satisfied: nvidia-cusolver-cu11==11.4.0.1; platform_system == \"Linux\" and platform_machine == \"x86_64\" in /home/microshaoft/.local/lib/python3.9/site-packages (from torch<3.0.0,>=2.0.0->semantic-kernel==0.2.6.dev0->-r requirements.txt (line 1)) (11.4.0.1)\n",
            "Requirement already satisfied: sentencepiece in /home/microshaoft/.local/lib/python3.9/site-packages (from sentence-transformers<3.0.0,>=2.2.2->semantic-kernel==0.2.6.dev0->-r requirements.txt (line 1)) (0.1.99)\n",
            "Requirement already satisfied: scikit-learn in /home/microshaoft/.local/lib/python3.9/site-packages (from sentence-transformers<3.0.0,>=2.2.2->semantic-kernel==0.2.6.dev0->-r requirements.txt (line 1)) (1.2.2)\n",
            "Requirement already satisfied: torchvision in /home/microshaoft/.local/lib/python3.9/site-packages (from sentence-transformers<3.0.0,>=2.2.2->semantic-kernel==0.2.6.dev0->-r requirements.txt (line 1)) (0.15.1)\n",
            "Requirement already satisfied: scipy in /home/microshaoft/.local/lib/python3.9/site-packages (from sentence-transformers<3.0.0,>=2.2.2->semantic-kernel==0.2.6.dev0->-r requirements.txt (line 1)) (1.10.1)\n",
            "Requirement already satisfied: nltk in /home/microshaoft/.local/lib/python3.9/site-packages (from sentence-transformers<3.0.0,>=2.2.2->semantic-kernel==0.2.6.dev0->-r requirements.txt (line 1)) (3.8.1)\n",
            "Requirement already satisfied: fsspec in /home/microshaoft/.local/lib/python3.9/site-packages (from huggingface-hub<1.0,>=0.11.0->transformers<5.0.0,>=4.28.1->semantic-kernel==0.2.6.dev0->-r requirements.txt (line 1)) (2023.4.0)\n",
            "Requirement already satisfied: yarl<2.0,>=1.0 in /home/microshaoft/.local/lib/python3.9/site-packages (from aiohttp->openai<0.28.0,>=0.27.0->semantic-kernel==0.2.6.dev0->-r requirements.txt (line 1)) (1.8.2)\n",
            "Requirement already satisfied: attrs>=17.3.0 in /usr/lib/python3/dist-packages (from aiohttp->openai<0.28.0,>=0.27.0->semantic-kernel==0.2.6.dev0->-r requirements.txt (line 1)) (19.3.0)\n",
            "Requirement already satisfied: multidict<7.0,>=4.5 in /home/microshaoft/.local/lib/python3.9/site-packages (from aiohttp->openai<0.28.0,>=0.27.0->semantic-kernel==0.2.6.dev0->-r requirements.txt (line 1)) (6.0.4)\n",
            "Requirement already satisfied: aiosignal>=1.1.2 in /home/microshaoft/.local/lib/python3.9/site-packages (from aiohttp->openai<0.28.0,>=0.27.0->semantic-kernel==0.2.6.dev0->-r requirements.txt (line 1)) (1.3.1)\n",
            "Requirement already satisfied: async-timeout<5.0,>=4.0.0a3 in /home/microshaoft/.local/lib/python3.9/site-packages (from aiohttp->openai<0.28.0,>=0.27.0->semantic-kernel==0.2.6.dev0->-r requirements.txt (line 1)) (4.0.2)\n",
            "Requirement already satisfied: frozenlist>=1.1.1 in /home/microshaoft/.local/lib/python3.9/site-packages (from aiohttp->openai<0.28.0,>=0.27.0->semantic-kernel==0.2.6.dev0->-r requirements.txt (line 1)) (1.3.3)\n",
            "Requirement already satisfied: charset-normalizer<4.0,>=2.0 in /home/microshaoft/.local/lib/python3.9/site-packages (from aiohttp->openai<0.28.0,>=0.27.0->semantic-kernel==0.2.6.dev0->-r requirements.txt (line 1)) (3.1.0)\n",
            "Requirement already satisfied: wheel in /usr/lib/python3/dist-packages (from nvidia-cublas-cu11==11.10.3.66; platform_system == \"Linux\" and platform_machine == \"x86_64\"->torch<3.0.0,>=2.0.0->semantic-kernel==0.2.6.dev0->-r requirements.txt (line 1)) (0.34.2)\n",
            "Requirement already satisfied: setuptools in /usr/lib/python3/dist-packages (from nvidia-cublas-cu11==11.10.3.66; platform_system == \"Linux\" and platform_machine == \"x86_64\"->torch<3.0.0,>=2.0.0->semantic-kernel==0.2.6.dev0->-r requirements.txt (line 1)) (45.2.0)\n",
            "Requirement already satisfied: mpmath>=0.19 in /home/microshaoft/.local/lib/python3.9/site-packages (from sympy->torch<3.0.0,>=2.0.0->semantic-kernel==0.2.6.dev0->-r requirements.txt (line 1)) (1.3.0)\n",
            "Requirement already satisfied: cmake in /home/microshaoft/.local/lib/python3.9/site-packages (from triton==2.0.0; platform_system == \"Linux\" and platform_machine == \"x86_64\"->torch<3.0.0,>=2.0.0->semantic-kernel==0.2.6.dev0->-r requirements.txt (line 1)) (3.26.3)\n",
            "Requirement already satisfied: lit in /home/microshaoft/.local/lib/python3.9/site-packages (from triton==2.0.0; platform_system == \"Linux\" and platform_machine == \"x86_64\"->torch<3.0.0,>=2.0.0->semantic-kernel==0.2.6.dev0->-r requirements.txt (line 1)) (16.0.2)\n",
            "Requirement already satisfied: joblib>=1.1.1 in /home/microshaoft/.local/lib/python3.9/site-packages (from scikit-learn->sentence-transformers<3.0.0,>=2.2.2->semantic-kernel==0.2.6.dev0->-r requirements.txt (line 1)) (1.2.0)\n",
            "Requirement already satisfied: threadpoolctl>=2.0.0 in /home/microshaoft/.local/lib/python3.9/site-packages (from scikit-learn->sentence-transformers<3.0.0,>=2.2.2->semantic-kernel==0.2.6.dev0->-r requirements.txt (line 1)) (3.1.0)\n",
            "Requirement already satisfied: pillow!=8.3.*,>=5.3.0 in /home/microshaoft/.local/lib/python3.9/site-packages (from torchvision->sentence-transformers<3.0.0,>=2.2.2->semantic-kernel==0.2.6.dev0->-r requirements.txt (line 1)) (9.5.0)\n",
            "Requirement already satisfied: click in /usr/lib/python3/dist-packages (from nltk->sentence-transformers<3.0.0,>=2.2.2->semantic-kernel==0.2.6.dev0->-r requirements.txt (line 1)) (7.0)\n",
            "Requirement already satisfied: idna>=2.0 in /usr/lib/python3/dist-packages (from yarl<2.0,>=1.0->aiohttp->openai<0.28.0,>=0.27.0->semantic-kernel==0.2.6.dev0->-r requirements.txt (line 1)) (2.8)\n"
          ]
        }
      ],
      "source": [
        "!python3 -m pip install -r requirements.txt\n",
        "\n",
        "import os\n",
        "\n",
        "os.environ[\"http_proxy\"]= \"http://127.0.0.1:8888\"\n",
        "os.environ[\"https_proxy\"]= \"http://127.0.0.1:8888\"\n",
        "\n",
        "os.environ[\"http_proxy\"]= \"http://192.168.0.106:8888\"\n",
        "os.environ[\"https_proxy\"]= \"http://192.168.0.106:8888\""
      ]
    },
    {
      "cell_type": "code",
      "execution_count": 3,
      "id": "b0062a24",
      "metadata": {},
      "outputs": [],
      "source": [
        "import semantic_kernel as sk\n",
        "from semantic_kernel.connectors.ai.open_ai import AzureTextCompletion, OpenAITextCompletion\n",
        "\n",
        "kernel = sk.Kernel()\n",
        "\n",
        "useAzureOpenAI = False\n",
        "\n",
        "# Configure AI service used by the kernel\n",
        "if useAzureOpenAI:\n",
        "    deployment, api_key, endpoint = sk.azure_openai_settings_from_dot_env()\n",
        "    kernel.config.add_text_completion_service(\"dv\", AzureTextCompletion(deployment, endpoint, api_key))\n",
        "else:\n",
        "    api_key, org_id = sk.openai_settings_from_dot_env()\n",
        "    kernel.config.add_text_completion_service(\"dv\", OpenAITextCompletion(\"text-davinci-003\", api_key, org_id))"
      ]
    },
    {
      "attachments": {},
      "cell_type": "markdown",
      "id": "fd5ff1f4",
      "metadata": {},
      "source": [
        "Import the skill and all its functions:"
      ]
    },
    {
      "cell_type": "code",
      "execution_count": null,
      "id": "56ee184d",
      "metadata": {},
      "outputs": [],
      "source": [
        "# note: using skills from the samples folder\n",
        "skills_directory = \"../../skills\"\n",
        "\n",
        "funFunctions = kernel.import_semantic_skill_from_directory(skills_directory, \"FunSkill\")\n",
        "\n",
        "jokeFunction = funFunctions[\"Joke\"]"
      ]
    },
    {
      "attachments": {},
      "cell_type": "markdown",
      "id": "edd99fa0",
      "metadata": {},
      "source": [
        "How to use the skill functions, e.g. generate a joke about \"*time travel to dinosaur age*\":"
      ]
    },
    {
      "cell_type": "code",
      "execution_count": null,
      "id": "6effe63b",
      "metadata": {},
      "outputs": [],
      "source": [
        "result = jokeFunction(\"time travel to dinosaur age\")\n",
        "\n",
        "print(result)\n",
        "\n",
        "# You can also invoke functions asynchronously\n",
        "# result = await jokeFunction.invoke_async(\"time travel to dinosaur age\")"
      ]
    },
    {
      "attachments": {},
      "cell_type": "markdown",
      "id": "2281a1fc",
      "metadata": {},
      "source": [
        "Great, now that you know how to load a skill from disk, let's show how you can [create and run a semantic function inline.](./03-semantic-function-inline.ipynb)"
      ]
    }
  ],
  "metadata": {
    "kernelspec": {
      "display_name": "Python 3 (ipykernel)",
      "language": "python",
      "name": "python3"
    },
    "language_info": {
      "codemirror_mode": {
        "name": "ipython",
        "version": 3
      },
      "file_extension": ".py",
      "mimetype": "text/x-python",
      "name": "python",
      "nbconvert_exporter": "python",
      "pygments_lexer": "ipython3",
      "version": "3.9.5"
    }
  },
  "nbformat": 4,
  "nbformat_minor": 5
}
